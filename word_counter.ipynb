{
 "cells": [
  {
   "cell_type": "code",
   "execution_count": 1,
   "metadata": {},
   "outputs": [],
   "source": [
    "import PyPDF2\n",
    "import re\n",
    "import spacy\n",
    "import pandas as pd\n",
    "\n",
    "# Load spaCy English model\n",
    "nlp = spacy.load('en_core_web_sm')\n",
    "\n",
    "def count_nouns_verbs_adjectives_per_page(pdf_path, start_page=1, end_page=None):\n",
    "    # Open the PDF file\n",
    "    with open(pdf_path, 'rb') as file:\n",
    "        reader = PyPDF2.PdfReader(file)\n",
    "        word_count_per_page = {}\n",
    "        \n",
    "        # Set end page if not provided\n",
    "        if end_page is None:\n",
    "            end_page = len(reader.pages)\n",
    "\n",
    "        # Iterate through the specified pages\n",
    "        for i in range(start_page-1, end_page):\n",
    "            # Extract text from the page\n",
    "            page = reader.pages[i]\n",
    "            text = page.extract_text()\n",
    "            \n",
    "            # Use regex to find words and create a spaCy document\n",
    "            words = re.findall(r'\\b\\w+\\b', text)\n",
    "            doc = nlp(\" \".join(words))\n",
    "\n",
    "            # Count nouns, verbs, and adjectives\n",
    "            count = sum(1 for token in doc if token.pos_ in ('NOUN', 'VERB', 'ADJ'))\n",
    "            word_count_per_page[i + 1] = count\n",
    "        \n",
    "        return word_count_per_page\n",
    "\n",
    "def save_to_excel(word_count_per_page, output_path='word_count.xlsx'):\n",
    "    # Create a DataFrame from the dictionary\n",
    "    df = pd.DataFrame(list(word_count_per_page.items()), columns=['Page #', 'Word Count'])\n",
    "    \n",
    "    # Save the DataFrame to an Excel file\n",
    "    df.to_excel(output_path, index=False)\n",
    "    print(f\"Data successfully saved to {output_path}\")\n",
    "\n",
    "# Example usage\n",
    "pdf_file_path = 'scorpiarising.pdf'\n",
    "word_count = count_nouns_verbs_adjectives_per_page(pdf_file_path, start_page=0, end_page=410)\n",
    "\n",
    "# Save the data to an Excel file\n",
    "save_to_excel(word_count, output_path='word_count_output.xlsx')\n"
   ]
  }
 ],
 "metadata": {
  "kernelspec": {
   "display_name": "word_density",
   "language": "python",
   "name": "python3"
  },
  "language_info": {
   "codemirror_mode": {
    "name": "ipython",
    "version": 3
   },
   "file_extension": ".py",
   "mimetype": "text/x-python",
   "name": "python",
   "nbconvert_exporter": "python",
   "pygments_lexer": "ipython3",
   "version": "3.8.19"
  }
 },
 "nbformat": 4,
 "nbformat_minor": 2
}
